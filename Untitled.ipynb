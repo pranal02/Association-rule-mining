{
 "cells": [
  {
   "cell_type": "code",
   "execution_count": null,
   "id": "9a0ea689-a5fb-4a87-976f-f997593a800d",
   "metadata": {},
   "outputs": [],
   "source": [
    "\n",
    "# Importing the Libraries\n",
    "import numpy as np\n",
    "import matplotlib.pyplot as plt\n",
    "import pandas as pd\n",
    "\n",
    "# Importing the dataset\n",
    "dataset = pd.read_csv('store_data.csv',header = None)\n",
    "\n",
    "# here we are creating the list because the apriori works on the list of list only and not work on dataframe\n",
    "transactions=[]\n",
    "for i in range (0,7501) :\n",
    "    transactions.append([str(dataset.values[i,j]) for j in range(0,20)])\n",
    "    \n",
    "#Training the apriori on the dataset\n",
    "from apyori import apriori\n",
    "rules = apriori(transactions,min_support = 0.003,min_confidence = 0.2, min_lift = 3 ,  min_length=2)  \n",
    "\n",
    "# Visualising the results\n",
    "results = list(rules)\n"
   ]
  },
  {
   "cell_type": "code",
   "execution_count": null,
   "id": "2e656153-0d42-4d2b-a9a8-3ba2f53afb2f",
   "metadata": {},
   "outputs": [],
   "source": []
  },
  {
   "cell_type": "code",
   "execution_count": null,
   "id": "07a94f68-31ae-415f-8942-08e544541e4f",
   "metadata": {},
   "outputs": [],
   "source": []
  }
 ],
 "metadata": {
  "kernelspec": {
   "display_name": "Python 3 (ipykernel)",
   "language": "python",
   "name": "python3"
  },
  "language_info": {
   "codemirror_mode": {
    "name": "ipython",
    "version": 3
   },
   "file_extension": ".py",
   "mimetype": "text/x-python",
   "name": "python",
   "nbconvert_exporter": "python",
   "pygments_lexer": "ipython3",
   "version": "3.11.9"
  }
 },
 "nbformat": 4,
 "nbformat_minor": 5
}
